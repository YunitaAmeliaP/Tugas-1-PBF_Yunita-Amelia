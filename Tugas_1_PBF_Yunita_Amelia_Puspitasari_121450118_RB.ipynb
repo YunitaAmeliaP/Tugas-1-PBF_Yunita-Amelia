{
  "nbformat": 4,
  "nbformat_minor": 0,
  "metadata": {
    "colab": {
      "provenance": []
    },
    "kernelspec": {
      "name": "python3",
      "display_name": "Python 3"
    },
    "language_info": {
      "name": "python"
    }
  },
  "cells": [
    {
      "cell_type": "markdown",
      "source": [
        "NAMA  : Yunita Amelia Puspitasari\n",
        "\n",
        "NIM   : 121450118\n",
        "\n",
        "KELAS : RB"
      ],
      "metadata": {
        "id": "mLEzB9lYBZ8l"
      }
    },
    {
      "cell_type": "markdown",
      "source": [
        "SOAL\n",
        "\n",
        "1 Jelaskan menggunakan tabel mengenai kelebihan dan kekurangan paradigma procedural dibandingkan dengan object oriented (minimal 3) !\n",
        "\n",
        "2 Jelaskan menggunakan tabel megenai kelebihan dan kekurangan paradigma object oriented dibandingkan dengan functional (minimal 3) !\n",
        "\n",
        "3 Jelaskan menggunakan tabel mengenai kelebihan dan kekurangan paradigma prosedural dibandingkan dengan functional (minimal 3) ! \n",
        "\n",
        "4 Apa yang dimaksud dengan pure functional programming languange ?\n",
        "\n",
        "5 Dari bahasa pemrograman FP di slide sebelumnya (slide 14), manakah yang termasuk pure functional programming languange ?\n"
      ],
      "metadata": {
        "id": "jlzaeg7DBk_U"
      }
    },
    {
      "cell_type": "markdown",
      "source": [
        "# **Nomor 1**\n",
        "\n",
        "<h4 style=\"text-align: center; font-weight : Bold;\">Kelebihan paradigma procedural dibandingkan dengan object oriented </h4>\n",
        "<br>\n",
        "\n",
        "\n",
        "|Paradigma Procedural|OOP|\n",
        "|--------------------|---|\n",
        "|Fokus utama pada fungsi dan prosedur yang beroperasi pada data.  |Menekankan pada data yang sedang beroperasi dan tidak fungsi atau prosedur.\n",
        "|Penulisan program yang sederhana dan terstruktur. |program dibagi ke dalam apa yang disebut objek.  |\n",
        "|Penggunaan memory yang lebih sedikit dibanding OOP.| Lebih mudah untuk mengatasi kompleksitas program yang besar dan kompleks.|\n",
        "\n",
        "<br>\n",
        "\n",
        "<h4 style=\"text-align: center; font-weight : Bold;\">Kekurangan paradigma procedural dibandingkan dengan object oriented</h4>\n",
        "\n",
        "|Paradigma Procedural|OOP|\n",
        "|--------------------|---|\n",
        "|Dukungan yang terbatas | Dukungan yang besar dalam pengembangan project |\n",
        "|Fungsi yang tersedia susah untuk diubah dan mempengaruhi sistem secara keseluruhan | Fungsi yang tersedia jika diubah tidak akan mempengaruhi sistem / aplikasi secara keseluruhan.|\n",
        "|Program yang cukup sulit untuk proses perawatan | Program yang memasukan OOP akan lebih mudah dalam perawatan (maintanace) |\n",
        "|Kurang aman dibandingkan dengan OOP | Lebih Aman dibandingkan dengan prosedural | "
      ],
      "metadata": {
        "id": "GVjtf9Ai1kSF"
      }
    },
    {
      "cell_type": "markdown",
      "source": [
        "# **Nomor 2**\n",
        "\n",
        "<h4 style=\"text-align: center; font-weight : Bold;\">Kelebihan paradigma object oriented dibandingkan dengan functional</h4>\n",
        "\n",
        "|OOP|Paradigma Functional|\n",
        "|---|--------------------|\n",
        "|OOP meniru objek real-world, sehingga membuat pengolahan data/objek lebih mudah untuk dipahami.| Membuat program menjadi lebih modular yang artinya perangkat lunak dapat lebih mudah untuk ditambah atau dikurangi fiturnya.| \n",
        "|Memfasilitasi pemodelan konsep abstrak seperti objek dan hubungan antar objek.  | Mengubah masalah kompleks menjadi potongan-potongan kecil yang jauh lebih sederhana untuk diselesaikan.| \n",
        "|Menawarkan kemudahan manajemen kode karena gaya coding modularnya. | Tidak menyediakan penyembunyian data, keamanan tidak dimungkinkan. |\n",
        "\n",
        "<br>\n",
        "<h4 style=\"text-align: center; font-weight : Bold;\">Kekurangan paradigma object oriented dibandingkan dengan functional</h4>\n",
        "\n",
        "|OOP|Paradigma Functional|\n",
        "|---|--------------------|\n",
        "|Program Berorientasi Objek cenderung lebih lambat dan menghabiskan banyak memori.| Kode prosedural sering kali tidak dapat digunakan ulang, tentunya karena paradigma ini tidak membuat fungsi atau subprogram. | \n",
        "|Program yang dibangun menggunakan paradigma ini mungkin membutuhkan waktu lebih lama untuk dibuat.| Penulisan program masih dibawah kompleks dari OOP| \n",
        "|Lebih sulit dipahami dan dipelajari bagi programmer pemula.| Operasi program lebih diutamakan dibandingkan dengan pengolahan data, sehingga kurang cocok untuk digunakan dalam pengembangan program yang sensitif terhadap data. |\n"
      ],
      "metadata": {
        "id": "dduQRacY3AGF"
      }
    },
    {
      "cell_type": "markdown",
      "source": [
        "# **Nomor 3**\n",
        "\n",
        "<h4 style=\"text-align: center; font-weight : Bold;\">Kelebihan paradigma prosedural dibandingkan dengan functional</h4>\n",
        "\n",
        "|Paradigma Procedural|Paradigma Fungsional|\n",
        "|:---:|:---:|\n",
        "|Lebih mudah dipahami dan diterapkan bagi programmer yang berpengalaman dengan paradigma ini.| Terkadang source code harus teliti dalam membacanya | \n",
        "|Dapat membuat kode lebih terstruktur dan lebih mudah dikelola dibandingkan dengan paradigma functional. | Penggunaan memori sedikit lebih banyak karna harus mengakses fungsi | \n",
        "|Alur program lebih mudah untuk ditelusuri.| Code terlihat akan rumit menemukan bug dan harus mencari dengan teliti dan solusinya akan lebih rumit diperbaiki |\n",
        "\n",
        "<br>\n",
        "<h4 style=\"text-align: center; font-weight : Bold;\">Kekurangan paradigma prosedural dibandingkan dengan functional</h4>\n",
        "\n",
        "|Paradigma Procedural|Paradigma Fungsional|\n",
        "|---|---|\n",
        "|Lebih sulit diprediksi dan diuji karena memiliki mutable state dan efek samping lain.| Lebih menekankan solusi secara variatif | \n",
        "|Lebih sulit untuk memanfaatkan teknik seperti memoization dan parallelism.  | Eksekusi (runtime) yang berulang tidak akan mempengaruhi program | \n",
        "|Struktur kode mungkin lebih sulit dikelola dan lebih kompleks dibandingkan dengan paradigma functional.| Tidak dilakukan evaluasi secara spesifik |"
      ],
      "metadata": {
        "id": "o4tTFioZ3RtN"
      }
    },
    {
      "cell_type": "markdown",
      "source": [
        "# **Nomor 4**\n",
        "\n",
        "Pure functional programming adalah fungsi yang hasilnya hanya bergantung pada parameter input, dan yang operasinya tidak menimbulkan efek samping, yaitu tidak membuat dampak eksternal selain nilai kembalian.\n",
        "\n",
        "Pure functional programming adalah fungsi yang memiliki sifat-sifat berikut:\n",
        "*   nilai pengembalian fungsi identik untuk argumen identik (tidak ada variasi dengan variabel statis lokal, variabel non-lokal, argumen referensi yang dapat diubah atau aliran input).\n",
        "*   fungsi tidak memiliki efek samping (tidak ada mutasi variabel statis lokal, variabel non-lokal, argumen referensi yang dapat diubah, atau aliran input/output).\n",
        "\n"
      ],
      "metadata": {
        "id": "Y8fiUSvrCVx0"
      }
    },
    {
      "cell_type": "markdown",
      "source": [
        "# **Nomor 5**\n",
        "\n",
        "\n",
        "*   Lisp\n",
        "*   Haskell\n",
        "*   Scala\n",
        "*   Java Script\n",
        "*   Python\n",
        "\n",
        "\n",
        "\n",
        "\n"
      ],
      "metadata": {
        "id": "ddrAsw4X3hPT"
      }
    },
    {
      "cell_type": "markdown",
      "source": [
        "<h2 style = \"text-align : center; font-weight:bold;\"> Simple Password encryption </h2>\n",
        "<br>\n",
        "Seorang user dari sebuah website ingin meningkatkan security dari password yang dia miliki dengan metode mengubah password nya menjadi bentuk lain dengan beberapa aturan enkripsi sebagai berikut: \n",
        "\n",
        "1. Input password bertipe string dengan batasan panjang password 100 karakter \n",
        "2. Setiap karakter dari string tersebut diubah menjadi ASCII value \n",
        "3. Kemudian setiap ASCII value tersebut dikembangkan menjadi 3 value dengan dilakukan operasi berikut: <br>\n",
        "    a. Value pertama dibagi dengan integer 26 kemudian dibulatkan dan dijumlahkan dengan 80 kemudian diubah kembali menjadi karakter <br>\n",
        "    b. Value kedua dihitung sisa bagi dengan 26 kemudian dijumlahkan dengan 80 kemudian diubah kembali menjadi karakter <br>\n",
        "    c. Value ketiga adalah karakter ‘+’ jika value pertama lebih besar dari value kedua, atau value ketiga adalah karakter ‘-’ jika value pertama tidak lebih besar dari value kedua \n",
        "4. Deretkan value pertama, kedua dan ketiga untuk setiap karakter dalam password tersebut sehingga didapatkan password dalam bentuk baru\n"
      ],
      "metadata": {
        "id": "l_fbudbo8ioU"
      }
    },
    {
      "cell_type": "markdown",
      "source": [
        "Soal\n",
        "\n",
        "1. Bantulah user tersebut dengan membuatkan sebuah program yang secara otomatis mengubah password yang di input menjadi terenkripsi sesuai aturan tersebut! \n",
        "\n",
        "2. Apa output yang dihasilkan dari program tersebut jika input password adalah ‘anakanakcerdas2020’? \n",
        "3. ___(Bonus)___ User tersebut lupa password asli yang dia inputkan ke dalam program tersebut, password setelah dienkripsi adalah ‘Sc-TV-Sc-TS+T[-Sc-TQ+TV-T[-Sf-Sc-T\\-Sc-Qh-Qf-Qh-Qf-TS+Sg-Se-Sg-’. Bantulah user tersebut mendapatkan password asli nya!"
      ],
      "metadata": {
        "id": "wFT9rJ1o8jvK"
      }
    },
    {
      "cell_type": "markdown",
      "source": [
        "# **Nomor 1**"
      ],
      "metadata": {
        "id": "PaCUV3r08-t2"
      }
    },
    {
      "cell_type": "code",
      "source": [
        "# Dengan metode paradigma fungsional \n",
        "\n",
        "def encrypt(passwd):\n",
        "    # Jika panjang lebih lebih dari 100 atau 0 \n",
        "    if len(passwd) == 0 or len(passwd) > 100:\n",
        "        print(\"Maaf masukan password dengan benar (dengan rentang 1 - 100)\")\n",
        "    else : \n",
        "        change_ascii = [str(ord(i)) for i in passwd]\n",
        "        # Menerapkan 3 value pada kode ascii yang telah ditentukan\n",
        "        open_decrypt = ''.join(chr((int(j)//26)+80)+chr((int(j)%26)+80)+('+' if (int(j)//26)+80 > (int(j)%26)+80 else '-') for j in change_ascii)\n",
        "        # menampilkan hasil enkripsi\n",
        "        print(\"Passwordnya adalah :  \", open_decrypt)\n",
        "\n",
        "def decrypt(passwd):\n",
        "    # split 3 value Password\n",
        "    pswd_split = [(passwd[k:k+3]) for k in range(0, len(passwd), 3)]\n",
        "    # Mengubah 3 value kembali ke kode ascii lalu ke karakter asli dan menggabungkan semuanya\n",
        "    open_encrypt = ''.join(chr(((ord(list(z)[0])-80)*26)+(ord(list(z)[1])-80)) for z in pswd_split)\n",
        "    # Hasil dekripsi\n",
        "    print(\"Passwordnya adalah :  \", open_encrypt)"
      ],
      "metadata": {
        "id": "blRRFnoE89Cm"
      },
      "execution_count": 1,
      "outputs": []
    },
    {
      "cell_type": "markdown",
      "source": [
        "# **Nomor 2**"
      ],
      "metadata": {
        "id": "JyI8BKzF9Pvh"
      }
    },
    {
      "cell_type": "code",
      "source": [
        "usr_input = input(\"Masukan password Anda : \")\n",
        "encrypt(usr_input)"
      ],
      "metadata": {
        "colab": {
          "base_uri": "https://localhost:8080/"
        },
        "id": "SrQSKdHY9TJ6",
        "outputId": "2a343246-d78d-4d1c-f13e-20bad457fd6c"
      },
      "execution_count": 4,
      "outputs": [
        {
          "output_type": "stream",
          "name": "stdout",
          "text": [
            "Masukan password Anda : anakanakcerdas2020\n",
            "Passwordnya adalah :   Sc-TV-Sc-TS+Sc-TV-Sc-TS+Se-Sg-TZ-Sf-Sc-T[-Qh-Qf-Qh-Qf-\n"
          ]
        }
      ]
    },
    {
      "cell_type": "markdown",
      "source": [
        "# **Nomor 3**"
      ],
      "metadata": {
        "id": "rWBpTskc9Yjo"
      }
    },
    {
      "cell_type": "code",
      "source": [
        "usr_input = input(\"Masukan password yang Anda ingin pecahkan : \")\n",
        "decrypt(usr_input)"
      ],
      "metadata": {
        "colab": {
          "base_uri": "https://localhost:8080/"
        },
        "id": "fI4P3aWy9Z_l",
        "outputId": "fda58e57-c655-4d45-d0b9-6aee2e40d298"
      },
      "execution_count": 5,
      "outputs": [
        {
          "output_type": "stream",
          "name": "stdout",
          "text": [
            "Masukan password yang Anda ingin pecahkan : Sc-TV-Sc-TS+Sc-TV-Sc-TS+Se-Sg-TZ-Sf-Sc-T[-Qh-Qf-Qh-Qf-\n",
            "Passwordnya adalah :   anakanakcerdas2020\n"
          ]
        }
      ]
    }
  ]
}